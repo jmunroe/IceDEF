{
 "cells": [
  {
   "cell_type": "code",
   "execution_count": 1,
   "metadata": {},
   "outputs": [],
   "source": [
    "import numpy as np\n",
    "from icedef import metocean, interpolate"
   ]
  },
  {
   "cell_type": "code",
   "execution_count": 2,
   "metadata": {},
   "outputs": [],
   "source": [
    "start_time = np.datetime64('2015-04-23')\n",
    "end_time = np.datetime64('2015-04-24')\n",
    "date_bounds = start_time, end_time\n",
    "ocean = metocean.Ocean(date_bounds)"
   ]
  },
  {
   "cell_type": "code",
   "execution_count": 3,
   "metadata": {},
   "outputs": [],
   "source": [
    "interpolator = interpolate.UniformRegularLinearInterpolator(\n",
    "    (ocean.data.time.values, ocean.data.latitude.values, ocean.data.longitude.values),\n",
    "     ocean.current.eastward_velocities.values, ocean.current.northward_velocities.values)"
   ]
  },
  {
   "cell_type": "code",
   "execution_count": 4,
   "metadata": {},
   "outputs": [
    {
     "data": {
      "text/plain": [
       "array([ 0.08331566, -0.18555277])"
      ]
     },
     "execution_count": 4,
     "metadata": {},
     "output_type": "execute_result"
    }
   ],
   "source": [
    "t = start_time + np.timedelta64(1, 'h')\n",
    "lat = 50\n",
    "lon = -50\n",
    "point = (t, lat, lon)\n",
    "interpolator.interpolate(point)"
   ]
  },
  {
   "cell_type": "code",
   "execution_count": null,
   "metadata": {},
   "outputs": [],
   "source": []
  }
 ],
 "metadata": {
  "kernelspec": {
   "display_name": "Python 3",
   "language": "python",
   "name": "python3"
  },
  "language_info": {
   "codemirror_mode": {
    "name": "ipython",
    "version": 3
   },
   "file_extension": ".py",
   "mimetype": "text/x-python",
   "name": "python",
   "nbconvert_exporter": "python",
   "pygments_lexer": "ipython3",
   "version": "3.6.5"
  }
 },
 "nbformat": 4,
 "nbformat_minor": 2
}
