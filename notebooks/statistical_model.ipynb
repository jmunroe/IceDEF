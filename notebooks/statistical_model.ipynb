{
 "cells": [
  {
   "cell_type": "code",
   "execution_count": 1,
   "metadata": {},
   "outputs": [],
   "source": [
    "import matplotlib.pyplot as plt\n",
    "import numpy as np\n",
    "from scipy.interpolate import InterpolatedUnivariateSpline"
   ]
  },
  {
   "cell_type": "code",
   "execution_count": 5,
   "metadata": {},
   "outputs": [
    {
     "data": {
      "image/png": "[encoded data removed]",
      "text/plain": [
       "<Figure size 432x288 with 1 Axes>"
      ]
     },
     "metadata": {},
     "output_type": "display_data"
    }
   ],
   "source": [
    "# given values\n",
    "xi = np.array([0.2, 0.5, 0.7, 0.9])\n",
    "yi = np.array([0.3, -0.1, 0.2, 0.1])\n",
    "# positions to inter/extrapolate\n",
    "t = np.linspace(0, 1, 50)\n",
    "# spline order: 1 linear, 2 quadratic, 3 cubic ... \n",
    "order = 1\n",
    "# do inter/extrapolation\n",
    "s = InterpolatedUnivariateSpline(xi, yi, k=order)\n",
    "y = s(t)\n",
    "\n",
    "# example showing the interpolation for linear, quadratic and cubic interpolation\n",
    "plt.figure()\n",
    "plt.scatter(xi, yi)\n",
    "for order in range(1, 2):\n",
    "    s = InterpolatedUnivariateSpline(xi, yi, k=order)\n",
    "    y = s(t)\n",
    "    plt.plot(t, y)\n",
    "plt.show()"
   ]
  },
  {
   "cell_type": "code",
   "execution_count": 10,
   "metadata": {},
   "outputs": [
    {
     "data": {
      "text/plain": [
       "array(-0.05)"
      ]
     },
     "execution_count": 10,
     "metadata": {},
     "output_type": "execute_result"
    }
   ],
   "source": [
    "s(1.2)"
   ]
  },
  {
   "cell_type": "code",
   "execution_count": null,
   "metadata": {},
   "outputs": [],
   "source": []
  }
 ],
 "metadata": {
  "kernelspec": {
   "display_name": "Python 3",
   "language": "python",
   "name": "python3"
  },
  "language_info": {
   "codemirror_mode": {
    "name": "ipython",
    "version": 3
   },
   "file_extension": ".py",
   "mimetype": "text/x-python",
   "name": "python",
   "nbconvert_exporter": "python",
   "pygments_lexer": "ipython3",
   "version": "3.6.5"
  }
 },
 "nbformat": 4,
 "nbformat_minor": 2
}
