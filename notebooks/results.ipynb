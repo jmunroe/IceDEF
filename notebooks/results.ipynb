{
 "cells": [
  {
   "cell_type": "code",
   "execution_count": 1,
   "metadata": {},
   "outputs": [],
   "source": [
    "import gc\n",
    "import warnings\n",
    "import numpy as np\n",
    "import xarray as xr\n",
    "import matplotlib.pyplot as plt\n",
    "import matplotlib.gridspec as gridspec\n",
    "from matplotlib import rcParams\n",
    "from matplotlib.patches import Polygon\n",
    "from matplotlib.lines import Line2D\n",
    "from mpl_toolkits.basemap import Basemap\n",
    "from mpl_toolkits.axes_grid1 import make_axes_locatable\n",
    "from importlib import reload\n",
    "from pandas import Timestamp\n",
    "from icedef import statoil_arcticnet_data as sd\n",
    "from icedef import test_case, plot, simulator, metocean\n",
    "\n",
    "try:\n",
    "    map_\n",
    "\n",
    "except NameError:\n",
    "    map_ = plot.get_map()"
   ]
  },
  {
   "cell_type": "code",
   "execution_count": 2,
   "metadata": {},
   "outputs": [],
   "source": [
    "plt.rcParams['figure.figsize'] = (6, 6)\n",
    "\n",
    "SMALL_SIZE = 10\n",
    "MEDIUM_SIZE = 12\n",
    "LARGE_SIZE = 14\n",
    "\n",
    "plt.rc('font', **{'family': 'serif', 'serif': ['Computer Modern']})\n",
    "plt.rc('text', usetex=True)\n",
    "\n",
    "plt.rc('font', size=MEDIUM_SIZE)          # controls default text sizes\n",
    "plt.rc('axes', titlesize=LARGE_SIZE)     # fontsize of the axes title\n",
    "plt.rc('axes', labelsize=LARGE_SIZE)     # fontsize of the x and y labels\n",
    "plt.rc('xtick', labelsize=MEDIUM_SIZE)    # fontsize of the tick labels\n",
    "plt.rc('ytick', labelsize=MEDIUM_SIZE)    # fontsize of the tick labels\n",
    "plt.rc('legend', fontsize=SMALL_SIZE)    # legend fontsize\n",
    "plt.rc('figure', titlesize=LARGE_SIZE)   # fontsize of the figure title\n",
    "\n",
    "rcParams['mathtext.fontset'] = 'stix'\n",
    "rcParams['font.family'] = 'STIXGeneral'"
   ]
  },
  {
   "cell_type": "code",
   "execution_count": 3,
   "metadata": {},
   "outputs": [],
   "source": [
    "beacon_id = '90679'  # good berg\n",
    "#beacon_id = '50519'  # bad berg\n",
    "\n",
    "df = sd.get_beacon_df(beacon_id=beacon_id)\n",
    "    \n",
    "day = 1\n",
    "\n",
    "if beacon_id == '90679':\n",
    "    start_index = 816\n",
    "elif beacon_id == '50519':\n",
    "    start_index = 537\n",
    "\n",
    "start_time = df.DataDate_UTC.values[start_index]\n",
    "start_time += np.timedelta64(day - 1, 'D')\n",
    "end_time = start_time + np.timedelta64(25, 'h')\n",
    "\n",
    "tc = test_case.TestCase(beacon_id=beacon_id, start_time=start_time, end_time=end_time)"
   ]
  },
  {
   "cell_type": "code",
   "execution_count": 4,
   "metadata": {},
   "outputs": [],
   "source": [
    "sim_args = tc.time_frame, tc.start_location, tc.start_velocity\n",
    "sim = simulator.Simulator(*sim_args, **{'ocean_model': 'ECMWF'})\n",
    "sim.testcase = tc\n",
    "sim.results.map = map_ \n",
    "reference_data_dict = {'time': tc.ref_times, 'latitude': tc.ref_lats.values, 'longitude': tc.ref_lons.values}\n",
    "sim.results.add_from_dict(reference_data_dict, label='reference')\n",
    "sim.results.add_xy_to_existing_dataset('reference')"
   ]
  },
  {
   "cell_type": "markdown",
   "metadata": {},
   "source": [
    "# No Current Constant Wind"
   ]
  },
  {
   "cell_type": "code",
   "execution_count": 60,
   "metadata": {},
   "outputs": [],
   "source": [
    "label = 'no_current_constant_wind'\n",
    "sim.start_velocity = 0.2, 0\n",
    "sim.set_constant_current((0, 0))\n",
    "sim.set_constant_wind((10, 0))\n",
    "sim.run_simulation(label=label)\n",
    "sim.results.add_xy_to_existing_dataset(label)\n",
    "sim.reload_ocean()\n",
    "sim.reload_atmosphere()\n",
    "sim.reload_iceberg()"
   ]
  },
  {
   "cell_type": "code",
   "execution_count": 61,
   "metadata": {},
   "outputs": [],
   "source": [
    "xs, ys = sim.results.data[label]['easting'].values, sim.results.data[label]['northing'].values \n",
    "xs -= xs[0]\n",
    "ys -= ys[0]\n",
    "\n",
    "Faxs = sim.results.data[label]['Fax'].values\n",
    "Fays = sim.results.data[label]['Fay'].values\n",
    "Fwxs = sim.results.data[label]['Fwx'].values\n",
    "Fwys = sim.results.data[label]['Fwy'].values\n",
    "Fcxs = sim.results.data[label]['Fcx'].values\n",
    "Fcys = sim.results.data[label]['Fcy'].values\n",
    "Fwpxs = sim.results.data[label]['Fwpx'].values\n",
    "Fwpys = sim.results.data[label]['Fwpy'].values\n",
    "\n",
    "gap = 50\n",
    "\n",
    "xs_ = xs[::gap]\n",
    "ys_ = ys[::gap]\n",
    "Faxs_ = Faxs[::gap]\n",
    "Fays_ = Fays[::gap]\n",
    "Fwxs_ = Fwxs[::gap]\n",
    "Fwys_ = Fwys[::gap]\n",
    "Fcxs_ = Fcxs[::gap]\n",
    "Fcys_ = Fcys[::gap]\n",
    "Fwpxs_ = Fwpxs[::gap]\n",
    "Fwpys_ = Fwpys[::gap]"
   ]
  },
  {
   "cell_type": "code",
   "execution_count": 62,
   "metadata": {},
   "outputs": [
    {
     "data": {
      "image/png": "[encoded data removed]",
      "text/plain": [
       "<Figure size 432x432 with 1 Axes>"
      ]
     },
     "metadata": {},
     "output_type": "display_data"
    }
   ],
   "source": [
    "fig = plt.figure(figsize=(6, 6))\n",
    "ax = fig.add_subplot(111, aspect='equal')\n",
    "ax.margins(x=0.2, y=1.4)\n",
    "ax.set_xlabel('Position (km)')\n",
    "ax.set_ylabel('Position (km)')\n",
    "\n",
    "ax.scatter(xs, ys, s=1, color='grey')\n",
    "\n",
    "scale = 5e6\n",
    "width = 4e-3\n",
    "headwidth = 5\n",
    "\n",
    "kwargs = {'scale': scale, 'width': width, 'headwidth': headwidth}\n",
    "\n",
    "ax.quiver(xs_, ys_, Faxs_, Fays_, color='red', label='Air', **kwargs)\n",
    "ax.quiver(xs_, ys_, Fwxs_, Fwys_, color='blue', label='Water', **kwargs)\n",
    "ax.quiver(xs_, ys_, Fcxs_, Fcys_, color='green', label='Coriolis', **kwargs)\n",
    "ax.quiver(xs_, ys_, Fwpxs_, Fwpys_, color='black', label='Pressure', **kwargs)\n",
    "\n",
    "ax.legend(ncol=4)\n",
    "\n",
    "fig.savefig('./plots/no_current_constant_wind.pdf', bbox_inches='tight')\n",
    "plt.show()"
   ]
  },
  {
   "cell_type": "markdown",
   "metadata": {},
   "source": [
    "# No Wind Constant Current "
   ]
  },
  {
   "cell_type": "code",
   "execution_count": 63,
   "metadata": {},
   "outputs": [],
   "source": [
    "label = 'no_wind_constant_current'\n",
    "sim.start_velocity = 0.2, 0\n",
    "sim.set_constant_current((0.3, 0))\n",
    "sim.set_constant_wind((0, 0))\n",
    "sim.run_simulation(label=label)\n",
    "sim.results.add_xy_to_existing_dataset(label)\n",
    "sim.reload_ocean()\n",
    "sim.reload_atmosphere()\n",
    "sim.reload_iceberg()"
   ]
  },
  {
   "cell_type": "code",
   "execution_count": 64,
   "metadata": {},
   "outputs": [],
   "source": [
    "xs, ys = sim.results.data[label]['easting'].values, sim.results.data[label]['northing'].values \n",
    "xs -= xs[0]\n",
    "ys -= ys[0]\n",
    "\n",
    "Faxs = sim.results.data[label]['Fax'].values\n",
    "Fays = sim.results.data[label]['Fay'].values\n",
    "Fwxs = sim.results.data[label]['Fwx'].values\n",
    "Fwys = sim.results.data[label]['Fwy'].values\n",
    "Fcxs = sim.results.data[label]['Fcx'].values\n",
    "Fcys = sim.results.data[label]['Fcy'].values\n",
    "Fwpxs = sim.results.data[label]['Fwpx'].values\n",
    "Fwpys = sim.results.data[label]['Fwpy'].values\n",
    "\n",
    "gap = 50\n",
    "\n",
    "xs_ = xs[::gap]\n",
    "ys_ = ys[::gap]\n",
    "Faxs_ = Faxs[::gap]\n",
    "Fays_ = Fays[::gap]\n",
    "Fwxs_ = Fwxs[::gap]\n",
    "Fwys_ = Fwys[::gap]\n",
    "Fcxs_ = Fcxs[::gap]\n",
    "Fcys_ = Fcys[::gap]\n",
    "Fwpxs_ = Fwpxs[::gap]\n",
    "Fwpys_ = Fwpys[::gap]"
   ]
  },
  {
   "cell_type": "code",
   "execution_count": 65,
   "metadata": {},
   "outputs": [
    {
     "data": {
      "image/png": "[encoded data removed]",
      "text/plain": [
       "<Figure size 432x432 with 1 Axes>"
      ]
     },
     "metadata": {},
     "output_type": "display_data"
    }
   ],
   "source": [
    "fig = plt.figure(figsize=(6, 6))\n",
    "ax = fig.add_subplot(111, aspect='equal')\n",
    "ax.margins(x=0.1, y=12)\n",
    "ax.set_xlabel('Position (km)')\n",
    "ax.set_ylabel('Position (km)')\n",
    "\n",
    "ax.scatter(xs, ys, s=1, color='grey')\n",
    "\n",
    "scale = 5e6\n",
    "width = 4e-3\n",
    "headwidth = 5\n",
    "\n",
    "kwargs = {'scale': scale, 'width': width, 'headwidth': headwidth}\n",
    "\n",
    "ax.quiver(xs_, ys_, Faxs_, Fays_, color='red', label='Air', **kwargs)\n",
    "ax.quiver(xs_, ys_, Fwxs_, Fwys_, color='blue', label='Water', **kwargs)\n",
    "ax.quiver(xs_, ys_, Fcxs_, Fcys_, color='green', label='Coriolis', **kwargs)\n",
    "ax.quiver(xs_, ys_, Fwpxs_, Fwpys_, color='black', label='Pressure', **kwargs)\n",
    "\n",
    "ax.legend(ncol=4)\n",
    "\n",
    "fig.savefig('./plots/no_wind_constant_current.pdf', bbox_inches='tight')\n",
    "plt.show()"
   ]
  },
  {
   "cell_type": "markdown",
   "metadata": {},
   "source": [
    "# No Current or Wind"
   ]
  },
  {
   "cell_type": "code",
   "execution_count": 75,
   "metadata": {},
   "outputs": [],
   "source": [
    "label = 'no_wind_or_current'\n",
    "title = 'No Current or Wind'\n",
    "sim.start_velocity = 0.1, 0\n",
    "sim.set_constant_current((0, 0))\n",
    "sim.set_constant_wind((0, 0))\n",
    "sim.run_simulation(label=label)\n",
    "sim.results.add_xy_to_existing_dataset(label)\n",
    "sim.reload_ocean()\n",
    "sim.reload_atmosphere()\n",
    "sim.reload_iceberg()"
   ]
  },
  {
   "cell_type": "code",
   "execution_count": 76,
   "metadata": {},
   "outputs": [],
   "source": [
    "xs, ys = sim.results.data[label]['easting'].values, sim.results.data[label]['northing'].values \n",
    "xs -= xs[0]\n",
    "ys -= ys[0]\n",
    "\n",
    "Faxs = sim.results.data[label]['Fax'].values\n",
    "Fays = sim.results.data[label]['Fay'].values\n",
    "Fwxs = sim.results.data[label]['Fwx'].values\n",
    "Fwys = sim.results.data[label]['Fwy'].values\n",
    "Fcxs = sim.results.data[label]['Fcx'].values\n",
    "Fcys = sim.results.data[label]['Fcy'].values\n",
    "Fwpxs = sim.results.data[label]['Fwpx'].values\n",
    "Fwpys = sim.results.data[label]['Fwpy'].values\n",
    "\n",
    "gap = 50\n",
    "\n",
    "xs_ = xs[::gap]\n",
    "ys_ = ys[::gap]\n",
    "Faxs_ = Faxs[::gap]\n",
    "Fays_ = Fays[::gap]\n",
    "Fwxs_ = Fwxs[::gap]\n",
    "Fwys_ = Fwys[::gap]\n",
    "Fcxs_ = Fcxs[::gap]\n",
    "Fcys_ = Fcys[::gap]\n",
    "Fwpxs_ = Fwpxs[::gap]\n",
    "Fwpys_ = Fwpys[::gap]"
   ]
  },
  {
   "cell_type": "code",
   "execution_count": 79,
   "metadata": {},
   "outputs": [
    {
     "data": {
      "image/png": "[encoded data removed]",
      "text/plain": [
       "<Figure size 432x432 with 1 Axes>"
      ]
     },
     "metadata": {},
     "output_type": "display_data"
    }
   ],
   "source": [
    "fig = plt.figure(figsize=(6, 6))\n",
    "ax = fig.add_subplot(111, aspect='equal')\n",
    "ax.margins(x=0.5, y=0.2)\n",
    "ax.set_xlabel('Position (km)')\n",
    "ax.set_ylabel('Position (km)')\n",
    "\n",
    "ax.scatter(xs, ys, s=1, color='grey')\n",
    "\n",
    "scale = 2e4\n",
    "width = 6e-3\n",
    "headwidth = 3\n",
    "\n",
    "kwargs = {'scale': scale, 'width': width, 'headwidth': headwidth}\n",
    "\n",
    "ax.quiver(xs_, ys_, Faxs_, Fays_, color='red', label='Air', **kwargs)\n",
    "ax.quiver(xs_, ys_, Fwxs_, Fwys_, color='blue', label='Water', **kwargs)\n",
    "ax.quiver(xs_, ys_, Fcxs_, Fcys_, color='green', label='Coriolis', **kwargs)\n",
    "ax.quiver(xs_, ys_, Fwpxs_, Fwpys_, color='black', label='Pressure', **kwargs)\n",
    "\n",
    "ax.legend(ncol=4)\n",
    "\n",
    "fig.savefig('./plots/no_wind_or_current.pdf', bbox_inches='tight')\n",
    "\n",
    "plt.show()"
   ]
  },
  {
   "cell_type": "markdown",
   "metadata": {},
   "source": [
    "# Constant Current and Wind"
   ]
  },
  {
   "cell_type": "code",
   "execution_count": 69,
   "metadata": {},
   "outputs": [],
   "source": [
    "label = 'constant_current_and_wind'\n",
    "sim.start_velocity = 0.1, 0\n",
    "sim.set_constant_current((0.3, 0))\n",
    "sim.set_constant_wind((10, 0))\n",
    "sim.run_simulation(label=label)\n",
    "sim.results.add_xy_to_existing_dataset(label)\n",
    "sim.reload_ocean()\n",
    "sim.reload_atmosphere()\n",
    "sim.reload_iceberg()"
   ]
  },
  {
   "cell_type": "code",
   "execution_count": 70,
   "metadata": {},
   "outputs": [],
   "source": [
    "xs, ys = sim.results.data[label]['easting'].values, sim.results.data[label]['northing'].values \n",
    "xs -= xs[0]\n",
    "ys -= ys[0]\n",
    "\n",
    "Faxs = sim.results.data[label]['Fax'].values\n",
    "Fays = sim.results.data[label]['Fay'].values\n",
    "Fwxs = sim.results.data[label]['Fwx'].values\n",
    "Fwys = sim.results.data[label]['Fwy'].values\n",
    "Fcxs = sim.results.data[label]['Fcx'].values\n",
    "Fcys = sim.results.data[label]['Fcy'].values\n",
    "Fwpxs = sim.results.data[label]['Fwpx'].values\n",
    "Fwpys = sim.results.data[label]['Fwpy'].values\n",
    "\n",
    "gap = 50\n",
    "\n",
    "xs_ = xs[::gap]\n",
    "ys_ = ys[::gap]\n",
    "Faxs_ = Faxs[::gap]\n",
    "Fays_ = Fays[::gap]\n",
    "Fwxs_ = Fwxs[::gap]\n",
    "Fwys_ = Fwys[::gap]\n",
    "Fcxs_ = Fcxs[::gap]\n",
    "Fcys_ = Fcys[::gap]\n",
    "Fwpxs_ = Fwpxs[::gap]\n",
    "Fwpys_ = Fwpys[::gap]"
   ]
  },
  {
   "cell_type": "code",
   "execution_count": 71,
   "metadata": {},
   "outputs": [
    {
     "data": {
      "image/png": "[encoded data removed]",
      "text/plain": [
       "<Figure size 432x432 with 1 Axes>"
      ]
     },
     "metadata": {},
     "output_type": "display_data"
    }
   ],
   "source": [
    "fig = plt.figure(figsize=(6, 6))\n",
    "ax = fig.add_subplot(111, aspect='equal')\n",
    "ax.margins(x=0.1, y=3.5)\n",
    "ax.set_xlabel('Position (km)')\n",
    "ax.set_ylabel('Position (km)')\n",
    "\n",
    "ax.scatter(xs, ys, s=1, color='grey')\n",
    "\n",
    "scale = 5e6\n",
    "width = 5e-3\n",
    "headwidth = 3\n",
    "\n",
    "kwargs = {'scale': scale, 'width': width, 'headwidth': headwidth}\n",
    "\n",
    "ax.quiver(xs_, ys_, Faxs_, Fays_, color='red', label='Air', **kwargs)\n",
    "ax.quiver(xs_, ys_, Fwxs_, Fwys_, color='blue', label='Water', **kwargs)\n",
    "ax.quiver(xs_, ys_, Fcxs_, Fcys_, color='green', label='Coriolis', **kwargs)\n",
    "ax.quiver(xs_, ys_, Fwpxs_, Fwpys_, color='black', label='Pressure', **kwargs)\n",
    "\n",
    "ax.legend(ncol=4)\n",
    "\n",
    "fig.savefig('./plots/constant_current_and_wind.pdf', bbox_inches='tight')\n",
    "\n",
    "plt.show()"
   ]
  },
  {
   "cell_type": "markdown",
   "metadata": {},
   "source": [
    "# Ekman"
   ]
  },
  {
   "cell_type": "code",
   "execution_count": 156,
   "metadata": {},
   "outputs": [],
   "source": [
    "sim_args = tc.time_frame, tc.start_location, tc.start_velocity\n",
    "sim = simulator.Simulator(*sim_args, **{'ocean_model': 'ECMWF'})\n",
    "sim.testcase = tc\n",
    "sim.results.map = map_ \n",
    "reference_data_dict = {'time': tc.ref_times, 'latitude': tc.ref_lats.values, 'longitude': tc.ref_lons.values}\n",
    "sim.results.add_from_dict(reference_data_dict, label='reference')\n",
    "sim.results.add_xy_to_existing_dataset('reference')"
   ]
  },
  {
   "cell_type": "code",
   "execution_count": 157,
   "metadata": {},
   "outputs": [],
   "source": [
    "# No Ekman\n",
    "ekman = False\n",
    "kwargs = {'ekman': ekman}\n",
    "sim.run_simulation(label='no_ekman', **kwargs)\n",
    "sim.results.add_xy_to_existing_dataset('no_ekman')\n",
    "\n",
    "# Ekman to depth of 100 m\n",
    "ekman = True\n",
    "kwargs = {'ekman': ekman}\n",
    "sim.run_simulation(label='ekman_100', **kwargs)\n",
    "sim.results.add_xy_to_existing_dataset('ekman_100')\n",
    "\n",
    "# Ekman to depth of 1000 m\n",
    "ekman = True\n",
    "depth_vec = np.arange(0, -1100, -100)\n",
    "kwargs = {'ekman': ekman, 'depth_vec': depth_vec}\n",
    "sim.run_simulation(label='ekman_1000', **kwargs)\n",
    "sim.results.add_xy_to_existing_dataset('ekman_1000')"
   ]
  },
  {
   "cell_type": "code",
   "execution_count": 165,
   "metadata": {},
   "outputs": [
    {
     "data": {
      "image/png": "[encoded data removed]",
      "text/plain": [
       "<Figure size 432x432 with 1 Axes>"
      ]
     },
     "metadata": {},
     "output_type": "display_data"
    }
   ],
   "source": [
    "fig = plt.figure(figsize=(6, 6))\n",
    "ax = fig.add_subplot(111, aspect='equal')\n",
    "#ax.margins(x=0.1, y=2)\n",
    "ax.set_xlabel('Position (km)')\n",
    "ax.set_ylabel('Position (km)')\n",
    "\n",
    "labels = ['No Ekman', 'Ekman to 100m', 'Ekman to 1000m']\n",
    "\n",
    "i = 0\n",
    "\n",
    "for label in ['no_ekman', 'ekman_100', 'ekman_1000']:\n",
    "    \n",
    "    xs, ys = sim.results.data[label]['easting'].values, sim.results.data[label]['northing'].values\n",
    "    xs -= xs[0]\n",
    "    ys -= ys[0]\n",
    "    \n",
    "    plt.scatter(xs, ys, s=1, label=labels[i])\n",
    "    \n",
    "    i += 1\n",
    "    \n",
    "plt.legend()\n",
    "\n",
    "fig.savefig('./plots/ekman_test.pdf', bbox_inches='tight')\n",
    "\n",
    "plt.show()"
   ]
  },
  {
   "cell_type": "markdown",
   "metadata": {},
   "source": [
    "# Varying Berg Size"
   ]
  },
  {
   "cell_type": "code",
   "execution_count": 171,
   "metadata": {},
   "outputs": [],
   "source": [
    "sizes = ['SM', 'MED', 'LG']\n",
    "labels = ['SM', 'MED', 'LG']\n",
    "\n",
    "for size, label in zip(sizes, labels):\n",
    "\n",
    "    sim.iceberg_size = size\n",
    "    sim.run_simulation(label=label)\n",
    "    sim.results.add_xy_to_existing_dataset(label)"
   ]
  },
  {
   "cell_type": "code",
   "execution_count": 172,
   "metadata": {},
   "outputs": [
    {
     "data": {
      "image/png": "[encoded data removed]",
      "text/plain": [
       "<Figure size 432x432 with 1 Axes>"
      ]
     },
     "metadata": {},
     "output_type": "display_data"
    }
   ],
   "source": [
    "fig = plt.figure(figsize=(6, 6))\n",
    "ax = fig.add_subplot(111, aspect='equal')\n",
    "ax.set_xlabel('Position (km)')\n",
    "ax.set_ylabel('Position (km)')\n",
    "\n",
    "for label in labels:\n",
    "    \n",
    "    xs, ys = sim.results.data[label]['easting'].values, sim.results.data[label]['northing'].values\n",
    "    xs -= xs[0]\n",
    "    ys -= ys[0]\n",
    "    \n",
    "    plt.scatter(xs, ys, s=1, label=label)\n",
    "    \n",
    "    i += 1\n",
    "    \n",
    "plt.legend()\n",
    "\n",
    "fig.savefig('./plots/varying_berg_size.pdf', bbox_inches='tight')\n",
    "\n",
    "plt.show()"
   ]
  },
  {
   "cell_type": "markdown",
   "metadata": {},
   "source": [
    "# Varying Berg Shape"
   ]
  },
  {
   "cell_type": "code",
   "execution_count": 173,
   "metadata": {},
   "outputs": [],
   "source": [
    "shapes = ['TAB', 'NTAB', 'DOM', 'PIN', 'WDG', 'DD', 'BLK']\n",
    "labels = ['TAB', 'NTAB', 'DOM', 'PIN', 'WDG', 'DD', 'BLK']\n",
    "\n",
    "for shape, label in zip(shapes, labels):\n",
    "\n",
    "    sim.iceberg_shape = shape\n",
    "    sim.run_simulation(label=label)\n",
    "    sim.results.add_xy_to_existing_dataset(label)"
   ]
  },
  {
   "cell_type": "code",
   "execution_count": 174,
   "metadata": {},
   "outputs": [
    {
     "data": {
      "image/png": "[encoded data removed]",
      "text/plain": [
       "<Figure size 432x432 with 1 Axes>"
      ]
     },
     "metadata": {},
     "output_type": "display_data"
    }
   ],
   "source": [
    "fig = plt.figure(figsize=(6, 6))\n",
    "ax = fig.add_subplot(111, aspect='equal')\n",
    "ax.set_xlabel('Position (km)')\n",
    "ax.set_ylabel('Position (km)')\n",
    "\n",
    "for label in labels:\n",
    "    \n",
    "    xs, ys = sim.results.data[label]['easting'].values, sim.results.data[label]['northing'].values\n",
    "    xs -= xs[0]\n",
    "    ys -= ys[0]\n",
    "    \n",
    "    plt.scatter(xs, ys, s=1, label=label)\n",
    "    \n",
    "    i += 1\n",
    "    \n",
    "plt.legend()\n",
    "\n",
    "fig.savefig('./plots/varying_berg_shape.pdf', bbox_inches='tight')\n",
    "\n",
    "plt.show()"
   ]
  },
  {
   "cell_type": "markdown",
   "metadata": {},
   "source": [
    "# Effect of changing timestepper"
   ]
  },
  {
   "cell_type": "code",
   "execution_count": 176,
   "metadata": {},
   "outputs": [],
   "source": [
    "from icedef import timesteppers"
   ]
  },
  {
   "cell_type": "code",
   "execution_count": 184,
   "metadata": {},
   "outputs": [],
   "source": [
    "sim_args = tc.time_frame, tc.start_location, tc.start_velocity\n",
    "sim = simulator.Simulator(*sim_args, **{'ocean_model': 'ECMWF'})\n",
    "sim.testcase = tc\n",
    "sim.results.map = map_ \n",
    "reference_data_dict = {'time': tc.ref_times, 'latitude': tc.ref_lats.values, 'longitude': tc.ref_lons.values}\n",
    "sim.results.add_from_dict(reference_data_dict, label='reference')\n",
    "sim.results.add_xy_to_existing_dataset('reference')"
   ]
  },
  {
   "cell_type": "code",
   "execution_count": 188,
   "metadata": {},
   "outputs": [],
   "source": [
    "sim.results.add_forces = False\n",
    "\n",
    "label = 'euler'\n",
    "sim.time_stepper = timesteppers.euler\n",
    "sim.run_simulation(label=label)\n",
    "sim.results.add_xy_to_existing_dataset(label)\n",
    "\n",
    "label = 'rk2'\n",
    "sim.time_stepper = timesteppers.rk2\n",
    "sim.run_simulation(label=label)\n",
    "sim.results.add_xy_to_existing_dataset(label)\n",
    "\n",
    "label = 'rk4'\n",
    "sim.time_stepper = timesteppers.rk4\n",
    "sim.run_simulation(label=label)\n",
    "sim.results.add_xy_to_existing_dataset(label)\n",
    "\n",
    "label = 'ab2'\n",
    "sim.time_stepper = timesteppers.ab2\n",
    "sim.run_simulation(label=label)\n",
    "sim.results.add_xy_to_existing_dataset(label)\n",
    "\n",
    "label = 'ab3'\n",
    "sim.time_stepper = timesteppers.ab3\n",
    "sim.run_simulation(label=label)\n",
    "sim.results.add_xy_to_existing_dataset(label)"
   ]
  },
  {
   "cell_type": "code",
   "execution_count": 189,
   "metadata": {},
   "outputs": [
    {
     "data": {
      "image/png": "[encoded data removed]",
      "text/plain": [
       "<Figure size 432x432 with 1 Axes>"
      ]
     },
     "metadata": {},
     "output_type": "display_data"
    }
   ],
   "source": [
    "labels = ['euler', 'rk2', 'rk4', 'ab2', 'ab3']\n",
    "    \n",
    "fig = plt.figure(figsize=(6, 6))\n",
    "ax = fig.add_subplot(111, aspect='equal')\n",
    "ax.set_xlabel('Position (km)')\n",
    "ax.set_ylabel('Position (km)')\n",
    "\n",
    "for label in labels:\n",
    "    \n",
    "    xs, ys = sim.results.data[label]['easting'].values, sim.results.data[label]['northing'].values\n",
    "    xs -= xs[0]\n",
    "    ys -= ys[0]\n",
    "    \n",
    "    plt.scatter(xs, ys, s=1, label=label)\n",
    "    \n",
    "    i += 1\n",
    "    \n",
    "plt.legend()\n",
    "\n",
    "fig.savefig('./plots/varying_time_stepper.pdf', bbox_inches='tight')\n",
    "\n",
    "plt.show()"
   ]
  },
  {
   "cell_type": "code",
   "execution_count": null,
   "metadata": {},
   "outputs": [],
   "source": []
  }
 ],
 "metadata": {
  "kernelspec": {
   "display_name": "Python 3",
   "language": "python",
   "name": "python3"
  },
  "language_info": {
   "codemirror_mode": {
    "name": "ipython",
    "version": 3
   },
   "file_extension": ".py",
   "mimetype": "text/x-python",
   "name": "python",
   "nbconvert_exporter": "python",
   "pygments_lexer": "ipython3",
   "version": "3.6.5"
  }
 },
 "nbformat": 4,
 "nbformat_minor": 2
}
