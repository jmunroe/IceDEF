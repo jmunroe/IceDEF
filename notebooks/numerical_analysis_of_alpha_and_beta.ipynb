{
 "cells": [
  {
   "cell_type": "code",
   "execution_count": 1,
   "metadata": {},
   "outputs": [],
   "source": [
    "%matplotlib inline\n",
    "import numpy as np\n",
    "import matplotlib.pyplot as plt\n",
    "from matplotlib import rcParams"
   ]
  },
  {
   "cell_type": "code",
   "execution_count": 2,
   "metadata": {},
   "outputs": [],
   "source": [
    "plot_dir = './plots/'\n",
    "\n",
    "SMALL_SIZE = 10\n",
    "MEDIUM_SIZE = 12\n",
    "LARGE_SIZE = 14\n",
    "\n",
    "plt.rc('font', **{'family': 'serif', 'serif': ['Computer Modern']})\n",
    "plt.rc('text', usetex=True)\n",
    "\n",
    "plt.rc('font', size=MEDIUM_SIZE)          # controls default text sizes\n",
    "plt.rc('axes', titlesize=LARGE_SIZE)     # fontsize of the axes title\n",
    "plt.rc('axes', labelsize=LARGE_SIZE)     # fontsize of the x and y labels\n",
    "plt.rc('xtick', labelsize=MEDIUM_SIZE)    # fontsize of the tick labels\n",
    "plt.rc('ytick', labelsize=MEDIUM_SIZE)    # fontsize of the tick labels\n",
    "plt.rc('legend', fontsize=SMALL_SIZE)    # legend fontsize\n",
    "plt.rc('figure', titlesize=LARGE_SIZE)   # fontsize of the figure title\n",
    "\n",
    "# import matplotlib.font_manager\n",
    "# import os\n",
    "# fm = matplotlib.font_manager.json_load(os.path.expanduser(\"~/.cache/matplotlib/fontList.json\"))\n",
    "\n",
    "# fm.findfont(\"serif\", rebuild_if_missing=False)\n",
    "\n",
    "rcParams['mathtext.fontset'] = 'stix'\n",
    "rcParams['font.family'] = 'STIXGeneral'"
   ]
  },
  {
   "cell_type": "markdown",
   "metadata": {},
   "source": [
    "# Evaluating an expression carefully"
   ]
  },
  {
   "cell_type": "markdown",
   "metadata": {},
   "source": [
    "Consider the following _complicated_ expression:"
   ]
  },
  {
   "cell_type": "markdown",
   "metadata": {},
   "source": [
    "$$ \\beta(x) = \\frac{1}{x^3} \\sqrt{ (4 + x^4) \\sqrt{1+ x^4} - 3 x^4 - 4)} $$"
   ]
  },
  {
   "cell_type": "markdown",
   "metadata": {},
   "source": [
    "Notice what happens when we try a naive evaluation of the expression"
   ]
  },
  {
   "cell_type": "code",
   "execution_count": 4,
   "metadata": {},
   "outputs": [],
   "source": [
    "x = np.arange(0, 0.2, 0.0001)\n",
    "b_naive = lambda x: 1 / x**3 * np.sqrt((4 + x**4) * np.sqrt( 1+ x**4) - 3 * x**4 - 4)\n",
    "a_naive = lambda x: np.multiply(np.divide(np.sqrt(2),np.power(x, 3)),(1-np.sqrt(1 + np.power(x,4))))"
   ]
  },
  {
   "cell_type": "code",
   "execution_count": 27,
   "metadata": {},
   "outputs": [
    {
     "name": "stderr",
     "output_type": "stream",
     "text": [
      "/home/evankielley/anaconda3/envs/icedef/lib/python3.6/site-packages/ipykernel_launcher.py:3: RuntimeWarning: divide by zero encountered in true_divide\n",
      "  This is separate from the ipykernel package so we can avoid doing imports until\n",
      "/home/evankielley/anaconda3/envs/icedef/lib/python3.6/site-packages/ipykernel_launcher.py:3: RuntimeWarning: invalid value encountered in multiply\n",
      "  This is separate from the ipykernel package so we can avoid doing imports until\n",
      "/home/evankielley/anaconda3/envs/icedef/lib/python3.6/site-packages/ipykernel_launcher.py:2: RuntimeWarning: divide by zero encountered in true_divide\n",
      "  \n",
      "/home/evankielley/anaconda3/envs/icedef/lib/python3.6/site-packages/ipykernel_launcher.py:2: RuntimeWarning: invalid value encountered in sqrt\n",
      "  \n",
      "/home/evankielley/anaconda3/envs/icedef/lib/python3.6/site-packages/ipykernel_launcher.py:2: RuntimeWarning: invalid value encountered in multiply\n",
      "  \n"
     ]
    },
    {
     "data": {
      "image/png": "[encoded data removed]",
      "text/plain": [
       "<Figure size 432x432 with 2 Axes>"
      ]
     },
     "metadata": {},
     "output_type": "display_data"
    }
   ],
   "source": [
    "fig, (ax1, ax2) = plt.subplots(2, 1, figsize=(6,6), sharex=True, sharey=False)\n",
    "ax1.plot(x, a_naive(x), color='grey')\n",
    "#ax1.set_xlabel('x')\n",
    "ax1.set_ylabel(r'$\\alpha$(x)')\n",
    "ax2.plot(x, b_naive(x), color='grey')\n",
    "ax2.set_xlabel('x')\n",
    "ax2.set_ylabel(r'$\\beta$(x)')\n",
    "ax2.ticklabel_format(style='scientific', scilimits=(0, 1e-3))\n",
    "#plt.suptitle('Numerical Instability of α(x) and β(x)', y=1.02)\n",
    "fig.tight_layout()\n",
    "plt.show()\n",
    "fig.savefig(plot_dir + 'alpha_beta_naive.pdf', bbox_inches='tight')"
   ]
  },
  {
   "cell_type": "markdown",
   "metadata": {},
   "source": [
    "The bizarre behaviour for $ x < 0.06 $ is due to round-off error."
   ]
  },
  {
   "cell_type": "markdown",
   "metadata": {},
   "source": [
    "### Taylor series"
   ]
  },
  {
   "cell_type": "markdown",
   "metadata": {},
   "source": [
    "Taylor series can help us a lot in this situation and SymPy can help us determine those coefficients. "
   ]
  },
  {
   "cell_type": "code",
   "execution_count": 10,
   "metadata": {},
   "outputs": [],
   "source": [
    "import sympy as sp\n",
    "sp.init_printing()"
   ]
  },
  {
   "cell_type": "code",
   "execution_count": 11,
   "metadata": {},
   "outputs": [
    {
     "data": {
      "image/png": "[encoded data removed]",
      "text/latex": [
       "$$\\frac{\\sqrt{- 3 x^{4} + \\sqrt{x^{4} + 1} \\left(x^{4} + 4\\right) - 4}}{x^{3}}$$"
      ],
      "text/plain": [
       "    ___________________________________\n",
       "   ╱             ________              \n",
       "  ╱       4     ╱  4      ⎛ 4    ⎞     \n",
       "╲╱   - 3⋅x  + ╲╱  x  + 1 ⋅⎝x  + 4⎠ - 4 \n",
       "───────────────────────────────────────\n",
       "                    3                  \n",
       "                   x                   "
      ]
     },
     "execution_count": 11,
     "metadata": {},
     "output_type": "execute_result"
    }
   ],
   "source": [
    "b_expression = sp.S('1/ x^3 * sqrt( (4 + x^4) * sqrt(1+ x^4)-3*x^4-4) ')\n",
    "b_expression"
   ]
  },
  {
   "cell_type": "code",
   "execution_count": 12,
   "metadata": {},
   "outputs": [
    {
     "data": {
      "image/png": "[encoded data removed]",
      "text/latex": [
       "$$\\frac{\\sqrt{2} \\left(- \\sqrt{x^{4} + 1} + 1\\right)}{x^{3}}$$"
      ],
      "text/plain": [
       "   ⎛     ________    ⎞\n",
       "   ⎜    ╱  4         ⎟\n",
       "√2⋅⎝- ╲╱  x  + 1  + 1⎠\n",
       "──────────────────────\n",
       "           3          \n",
       "          x           "
      ]
     },
     "execution_count": 12,
     "metadata": {},
     "output_type": "execute_result"
    }
   ],
   "source": [
    "a_expression = sp.S('sqrt(2)/x**3*(1-sqrt(1+x**4))')\n",
    "a_expression"
   ]
  },
  {
   "cell_type": "code",
   "execution_count": 13,
   "metadata": {},
   "outputs": [
    {
     "data": {
      "image/png": "[encoded data removed]",
      "text/latex": [
       "$$\\frac{\\sqrt{2} x^{3}}{4} - \\frac{3 \\sqrt{2} x^{7}}{32} + \\frac{27 \\sqrt{2} x^{11}}{512} - \\frac{143 \\sqrt{2} x^{15}}{4096} - \\frac{2445 \\sqrt{2} x^{19}}{131072} + O\\left(x^{20}\\right)$$"
      ],
      "text/plain": [
       "    3         7          11           15            19         \n",
       "√2⋅x    3⋅√2⋅x    27⋅√2⋅x     143⋅√2⋅x     2445⋅√2⋅x      ⎛ 20⎞\n",
       "───── - ─────── + ───────── - ────────── - ─────────── + O⎝x  ⎠\n",
       "  4        32        512         4096         131072           "
      ]
     },
     "execution_count": 13,
     "metadata": {},
     "output_type": "execute_result"
    }
   ],
   "source": [
    "b_series = sp.series(b_expression, n=20)\n",
    "b_series"
   ]
  },
  {
   "cell_type": "code",
   "execution_count": 14,
   "metadata": {},
   "outputs": [
    {
     "data": {
      "image/png": "[encoded data removed]",
      "text/latex": [
       "$$- \\frac{\\sqrt{2} x}{2} + \\frac{\\sqrt{2} x^{5}}{8} - \\frac{\\sqrt{2} x^{9}}{16} + \\frac{5 \\sqrt{2} x^{13}}{128} - \\frac{7 \\sqrt{2} x^{17}}{256} + O\\left(x^{20}\\right)$$"
      ],
      "text/plain": [
       "             5       9         13         17         \n",
       "  √2⋅x   √2⋅x    √2⋅x    5⋅√2⋅x     7⋅√2⋅x      ⎛ 20⎞\n",
       "- ──── + ───── - ───── + ──────── - ──────── + O⎝x  ⎠\n",
       "   2       8       16      128        256            "
      ]
     },
     "execution_count": 14,
     "metadata": {},
     "output_type": "execute_result"
    }
   ],
   "source": [
    "a_series = sp.series(a_expression, n=20)\n",
    "a_series"
   ]
  },
  {
   "cell_type": "code",
   "execution_count": 15,
   "metadata": {},
   "outputs": [],
   "source": [
    "b_taylor = sp.lambdify('x', b_series.removeO())"
   ]
  },
  {
   "cell_type": "code",
   "execution_count": 16,
   "metadata": {},
   "outputs": [],
   "source": [
    "a_taylor = sp.lambdify('x', a_series.removeO())"
   ]
  },
  {
   "cell_type": "code",
   "execution_count": 26,
   "metadata": {},
   "outputs": [
    {
     "name": "stderr",
     "output_type": "stream",
     "text": [
      "/home/evankielley/anaconda3/envs/icedef/lib/python3.6/site-packages/ipykernel_launcher.py:3: RuntimeWarning: divide by zero encountered in true_divide\n",
      "  This is separate from the ipykernel package so we can avoid doing imports until\n",
      "/home/evankielley/anaconda3/envs/icedef/lib/python3.6/site-packages/ipykernel_launcher.py:3: RuntimeWarning: invalid value encountered in multiply\n",
      "  This is separate from the ipykernel package so we can avoid doing imports until\n",
      "/home/evankielley/anaconda3/envs/icedef/lib/python3.6/site-packages/ipykernel_launcher.py:2: RuntimeWarning: divide by zero encountered in true_divide\n",
      "  \n",
      "/home/evankielley/anaconda3/envs/icedef/lib/python3.6/site-packages/ipykernel_launcher.py:2: RuntimeWarning: invalid value encountered in sqrt\n",
      "  \n",
      "/home/evankielley/anaconda3/envs/icedef/lib/python3.6/site-packages/ipykernel_launcher.py:2: RuntimeWarning: invalid value encountered in multiply\n",
      "  \n"
     ]
    },
    {
     "data": {
      "image/png": "[encoded data removed]",
      "text/plain": [
       "<Figure size 432x432 with 2 Axes>"
      ]
     },
     "metadata": {},
     "output_type": "display_data"
    }
   ],
   "source": [
    "fig, (ax1, ax2) = plt.subplots(2, 1, figsize=(6,6), sharex=True, sharey=False)\n",
    "ax1.plot(x, a_naive(x), label='Naive', color='grey')\n",
    "ax1.plot(x, a_taylor(x), label='Expanded', color='k')\n",
    "#ax1.set_xlabel('x')\n",
    "ax1.set_ylabel(r'$\\alpha$(x)')\n",
    "ax1.legend()\n",
    "ax2.plot(x, b_naive(x), label='Naive', color='grey')\n",
    "ax2.plot(x, b_taylor(x), label='Expanded', color='k')\n",
    "ax2.set_xlabel('x')\n",
    "ax2.set_ylabel(r'$\\beta$(x)')\n",
    "ax2.legend()\n",
    "ax2.ticklabel_format(style='scientific', scilimits=(0, 1e-3))\n",
    "#plt.suptitle('Numerical Instability of α(x) and β(x)', y=1.02)\n",
    "fig.tight_layout()\n",
    "plt.show()\n",
    "fig.savefig(plot_dir + 'alpha_beta_naive_and_taylor.pdf', bbox_inches='tight')"
   ]
  },
  {
   "cell_type": "markdown",
   "metadata": {},
   "source": [
    "### Considering the absolute difference"
   ]
  },
  {
   "cell_type": "code",
   "execution_count": 24,
   "metadata": {},
   "outputs": [
    {
     "name": "stderr",
     "output_type": "stream",
     "text": [
      "/home/evankielley/anaconda3/envs/icedef/lib/python3.6/site-packages/ipykernel_launcher.py:3: RuntimeWarning: divide by zero encountered in true_divide\n",
      "  This is separate from the ipykernel package so we can avoid doing imports until\n",
      "/home/evankielley/anaconda3/envs/icedef/lib/python3.6/site-packages/ipykernel_launcher.py:3: RuntimeWarning: invalid value encountered in multiply\n",
      "  This is separate from the ipykernel package so we can avoid doing imports until\n",
      "/home/evankielley/anaconda3/envs/icedef/lib/python3.6/site-packages/ipykernel_launcher.py:2: RuntimeWarning: divide by zero encountered in true_divide\n",
      "  \n",
      "/home/evankielley/anaconda3/envs/icedef/lib/python3.6/site-packages/ipykernel_launcher.py:2: RuntimeWarning: invalid value encountered in sqrt\n",
      "  \n",
      "/home/evankielley/anaconda3/envs/icedef/lib/python3.6/site-packages/ipykernel_launcher.py:2: RuntimeWarning: invalid value encountered in multiply\n",
      "  \n"
     ]
    },
    {
     "data": {
      "image/png": "[encoded data removed]",
      "text/plain": [
       "<Figure size 432x432 with 2 Axes>"
      ]
     },
     "metadata": {},
     "output_type": "display_data"
    }
   ],
   "source": [
    "fig, (ax1, ax2) = plt.subplots(2, 1, figsize=(6,6), sharex=True, sharey=False)\n",
    "ax1.plot(x, abs(a_taylor(x) - a_naive(x)), color='k')\n",
    "ax1.set_ylim(0, 1e-9)\n",
    "ax1.set_ylabel(r'$\\vert\\alpha$(x) - $\\alpha$(x)*$\\vert$')\n",
    "ax2.plot(x, abs(b_taylor(x) - b_naive(x)), color='k')\n",
    "ax2.ticklabel_format(style='scientific', scilimits=(0, 1e-3))\n",
    "ax2.set_xlabel('x')\n",
    "ax2.set_ylabel(r'$\\vert\\beta$(x) - $\\beta$(x)*$\\vert$')\n",
    "#plt.suptitle('Numerical Instability of α(x) and β(x)', y=1.02)\n",
    "fig.tight_layout()\n",
    "plt.show()\n",
    "fig.savefig(plot_dir + 'alpha_beta_difference.pdf', bbox_inches='tight')"
   ]
  },
  {
   "cell_type": "code",
   "execution_count": null,
   "metadata": {
    "collapsed": true
   },
   "outputs": [],
   "source": []
  }
 ],
 "metadata": {
  "kernelspec": {
   "display_name": "Python 3",
   "language": "python",
   "name": "python3"
  },
  "language_info": {
   "codemirror_mode": {
    "name": "ipython",
    "version": 3
   },
   "file_extension": ".py",
   "mimetype": "text/x-python",
   "name": "python",
   "nbconvert_exporter": "python",
   "pygments_lexer": "ipython3",
   "version": "3.6.5"
  }
 },
 "nbformat": 4,
 "nbformat_minor": 2
}
