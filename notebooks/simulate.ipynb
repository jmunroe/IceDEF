{
 "cells": [
  {
   "cell_type": "code",
   "execution_count": 1,
   "metadata": {},
   "outputs": [],
   "source": [
    "import numpy as np\n",
    "from importlib import reload\n",
    "\n",
    "from icedef import timestepper, drift, metocean, iceberg, interpolate, tools"
   ]
  },
  {
   "cell_type": "code",
   "execution_count": 2,
   "metadata": {},
   "outputs": [],
   "source": [
    "time_stepper = timestepper.euler\n",
    "interpolator = interpolate.UniformRegularLinearInterpolator\n",
    "drift_model = drift.DynamicDriftModel\n",
    "ocean_model = 'ECMWF'\n",
    "atmosphere_model = 'ECMWF'"
   ]
  },
  {
   "cell_type": "code",
   "execution_count": 3,
   "metadata": {},
   "outputs": [
    {
     "data": {
      "text/plain": [
       "<module 'icedef.metocean' from '/home/evankielley/IceDEF/icedef/metocean.py'>"
      ]
     },
     "execution_count": 3,
     "metadata": {},
     "output_type": "execute_result"
    }
   ],
   "source": [
    "reload(metocean)  "
   ]
  },
  {
   "cell_type": "code",
   "execution_count": 4,
   "metadata": {},
   "outputs": [],
   "source": [
    "start_date = np.datetime64('2015-04-23')\n",
    "end_date = start_date + np.timedelta64(1, 'D')\n",
    "date_bounds = start_date, end_date"
   ]
  },
  {
   "cell_type": "code",
   "execution_count": 5,
   "metadata": {},
   "outputs": [],
   "source": [
    "ocean = metocean.Ocean(date_bounds, model=ocean_model, interpolator=interpolator)\n",
    "atmosphere = metocean.Atmosphere(date_bounds, model=atmosphere_model, interpolator=interpolator)"
   ]
  },
  {
   "cell_type": "code",
   "execution_count": 6,
   "metadata": {},
   "outputs": [
    {
     "data": {
      "text/plain": [
       "(array([ 0.08331566, -0.18555277]), array([-1.73470052, -2.72474162]))"
      ]
     },
     "execution_count": 6,
     "metadata": {},
     "output_type": "execute_result"
    }
   ],
   "source": [
    "t = start_date + np.timedelta64(1, 'h')\n",
    "lat = 50\n",
    "lon = -50\n",
    "point = (t, lat, lon)\n",
    "ocean.current.interpolate(point), atmosphere.wind.interpolate(point)"
   ]
  },
  {
   "cell_type": "code",
   "execution_count": 7,
   "metadata": {},
   "outputs": [],
   "source": [
    "iceberg_start_time = start_date + np.timedelta64(1, 'h')\n",
    "iceberg_start_position = 50, -50\n",
    "iceberg_start_velocity = 0, 0\n",
    "iceberg_ = iceberg.quickstart(iceberg_start_time, iceberg_start_position, iceberg_start_velocity)"
   ]
  },
  {
   "cell_type": "code",
   "execution_count": 8,
   "metadata": {},
   "outputs": [],
   "source": [
    "drift_model_kwargs = {\n",
    "    'form_drag_coefficient_in_air': iceberg_.FORM_DRAG_COEFFICIENT_IN_AIR,\n",
    "    'form_drag_coefficient_in_water': iceberg_.FORM_DRAG_COEFFICIENT_IN_WATER,\n",
    "    'skin_drag_coefficient_in_air': iceberg_.SKIN_DRAG_COEFFICIENT_IN_AIR,\n",
    "    'skin_drag_coefficient_in_water': iceberg_.SKIN_DRAG_COEFFICIENT_IN_WATER,\n",
    "    'sail_area': iceberg_.geometry.sail_area,\n",
    "    'keel_area': iceberg_.geometry.keel_area,\n",
    "    'top_area': iceberg_.geometry.top_area,\n",
    "    'bottom_area': iceberg_.geometry.bottom_area,\n",
    "    'mass': iceberg_.geometry.mass,\n",
    "}\n",
    "\n",
    "drift_model = drift_model()\n",
    "drift_function = drift_model.drift"
   ]
  },
  {
   "cell_type": "code",
   "execution_count": 11,
   "metadata": {},
   "outputs": [
    {
     "name": "stdout",
     "output_type": "stream",
     "text": [
      "(50.0, -50.0)\n",
      "(49.999861272620954, -49.99989305021428)\n",
      "(49.99964800515515, -49.999732651438045)\n",
      "(49.9993856792163, -49.99954002937828)\n",
      "(49.999087680361285, -49.999326329382626)\n",
      "(49.99876208939809, -49.99909827751343)\n",
      "(49.99841422786418, -49.99886030184033)\n",
      "(49.998047819418716, -49.99861550016457)\n",
      "(49.99766579762618, -49.99836638819771)\n",
      "(49.99727036502455, -49.99811485940936)\n",
      "(49.99686322563669, -49.99786238364858)\n",
      "(49.996445730762964, -49.997610131694344)\n",
      "(49.996018974570845, -49.997359056891035)\n"
     ]
    }
   ],
   "source": [
    "time_step = np.timedelta64(300, 's')\n",
    "dt = time_step.item().total_seconds()\n",
    "\n",
    "simulation_start_time = iceberg_start_time\n",
    "simulation_end_time = simulation_start_time + np.timedelta64(1, 'h')\n",
    "\n",
    "time = simulation_start_time\n",
    "iceberg_position = iceberg_start_position\n",
    "iceberg_velocity = iceberg_start_velocity\n",
    "\n",
    "while time <= simulation_end_time:\n",
    "    \n",
    "    point = time, iceberg_position[0], iceberg_position[1]\n",
    "    \n",
    "    drift_function_kwargs = {\n",
    "        'current_velocity': ocean.current.interpolate(point),\n",
    "        'mean_current_velocity': ocean.current.interpolate(point),\n",
    "        'mean_current_acceleration': (0, 0),\n",
    "        'wind_velocity': atmosphere.wind.interpolate(point),\n",
    "        'latitude': iceberg_start_position[0],\n",
    "    }\n",
    "    \n",
    "    dx, dy, dvx, dvy = time_stepper(drift_model.drift, dt, iceberg_velocity, **drift_function_kwargs)\n",
    "    \n",
    "    iceberg_eastward_velocity, iceberg_northward_velocity = iceberg_velocity\n",
    "    iceberg_eastward_velocity += dvx\n",
    "    iceberg_northward_velocity += dvy\n",
    "    iceberg_velocity = iceberg_eastward_velocity, iceberg_northward_velocity\n",
    "    iceberg_latitude, iceberg_longitude = iceberg_position\n",
    "    iceberg_latitude += tools.dy_to_dlat(dy)\n",
    "    iceberg_longitude += tools.dx_to_dlon(dx, iceberg_latitude)\n",
    "    iceberg_position = iceberg_latitude, iceberg_longitude\n",
    "    \n",
    "    print(iceberg_position)\n",
    "    \n",
    "    time += time_step"
   ]
  },
  {
   "cell_type": "code",
   "execution_count": null,
   "metadata": {},
   "outputs": [],
   "source": []
  }
 ],
 "metadata": {
  "kernelspec": {
   "display_name": "Python 3",
   "language": "python",
   "name": "python3"
  },
  "language_info": {
   "codemirror_mode": {
    "name": "ipython",
    "version": 3
   },
   "file_extension": ".py",
   "mimetype": "text/x-python",
   "name": "python",
   "nbconvert_exporter": "python",
   "pygments_lexer": "ipython3",
   "version": "3.6.5"
  }
 },
 "nbformat": 4,
 "nbformat_minor": 2
}
