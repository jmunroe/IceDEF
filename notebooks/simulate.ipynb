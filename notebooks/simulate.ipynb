{
 "cells": [
  {
   "cell_type": "code",
   "execution_count": 28,
   "metadata": {},
   "outputs": [],
   "source": [
    "import numpy as np\n",
    "import matplotlib.pyplot as plt\n",
    "from importlib import reload\n",
    "\n",
    "from icedef import timestepper, drift, metocean, iceberg, interpolate, tools"
   ]
  },
  {
   "cell_type": "code",
   "execution_count": 2,
   "metadata": {},
   "outputs": [],
   "source": [
    "time_stepper = timestepper.euler\n",
    "interpolator = interpolate.UniformRegularLinearInterpolator\n",
    "drift_model = drift.DynamicDriftModel\n",
    "ocean_model = 'ECMWF'\n",
    "atmosphere_model = 'ECMWF'"
   ]
  },
  {
   "cell_type": "markdown",
   "metadata": {},
   "source": [
    "# Load in Metocean Data"
   ]
  },
  {
   "cell_type": "code",
   "execution_count": 4,
   "metadata": {},
   "outputs": [],
   "source": [
    "start_date = np.datetime64('2015-04-23')\n",
    "end_date = start_date + np.timedelta64(1, 'D')\n",
    "date_bounds = start_date, end_date"
   ]
  },
  {
   "cell_type": "code",
   "execution_count": 5,
   "metadata": {},
   "outputs": [],
   "source": [
    "ocean = metocean.Ocean(date_bounds, model=ocean_model, interpolator=interpolator)\n",
    "atmosphere = metocean.Atmosphere(date_bounds, model=atmosphere_model, interpolator=interpolator)"
   ]
  },
  {
   "cell_type": "markdown",
   "metadata": {},
   "source": [
    "# Create Iceberg"
   ]
  },
  {
   "cell_type": "code",
   "execution_count": 6,
   "metadata": {},
   "outputs": [],
   "source": [
    "iceberg_start_time = start_date + np.timedelta64(1, 'h')\n",
    "iceberg_start_position = 50, -50\n",
    "iceberg_start_velocity = 0, 0\n",
    "iceberg_ = iceberg.quickstart(iceberg_start_time, iceberg_start_position, iceberg_start_velocity)"
   ]
  },
  {
   "cell_type": "markdown",
   "metadata": {},
   "source": [
    "# Simulate with Dynamic Drift Model"
   ]
  },
  {
   "cell_type": "code",
   "execution_count": 24,
   "metadata": {},
   "outputs": [],
   "source": [
    "drift_model_kwargs = {\n",
    "    'form_drag_coefficient_in_air': iceberg_.FORM_DRAG_COEFFICIENT_IN_AIR,\n",
    "    'form_drag_coefficient_in_water': iceberg_.FORM_DRAG_COEFFICIENT_IN_WATER,\n",
    "    'skin_drag_coefficient_in_air': iceberg_.SKIN_DRAG_COEFFICIENT_IN_AIR,\n",
    "    'skin_drag_coefficient_in_water': iceberg_.SKIN_DRAG_COEFFICIENT_IN_WATER,\n",
    "    'sail_area': iceberg_.geometry.sail_area,\n",
    "    'keel_area': iceberg_.geometry.keel_area,\n",
    "    'top_area': iceberg_.geometry.top_area,\n",
    "    'bottom_area': iceberg_.geometry.bottom_area,\n",
    "    'mass': iceberg_.geometry.mass,\n",
    "}\n",
    "\n",
    "drift_model = drift.DynamicDriftModel\n",
    "drift_model = drift_model()\n",
    "drift_function = drift_model.drift"
   ]
  },
  {
   "cell_type": "code",
   "execution_count": 25,
   "metadata": {},
   "outputs": [],
   "source": [
    "#%%timeit\n",
    "\n",
    "time_step = np.timedelta64(300, 's')\n",
    "dt = time_step.item().total_seconds()\n",
    "\n",
    "simulation_start_time = iceberg_start_time\n",
    "simulation_end_time = simulation_start_time + np.timedelta64(1, 'D')\n",
    "\n",
    "time = simulation_start_time\n",
    "iceberg_position = iceberg_start_position\n",
    "iceberg_velocity = iceberg_start_velocity\n",
    "\n",
    "dynamic_results = {'latitude': [iceberg_start_position[0]], 'longitude': [iceberg_start_position[1]]}\n",
    "\n",
    "while time <= simulation_end_time:\n",
    "    \n",
    "    point = time, iceberg_position[0], iceberg_position[1]\n",
    "    \n",
    "    drift_function_kwargs = {\n",
    "        'current_velocity': ocean.current.interpolate(point),\n",
    "        'mean_current_velocity': ocean.current.interpolate(point),\n",
    "        'mean_current_acceleration': (0, 0),\n",
    "        'wind_velocity': atmosphere.wind.interpolate(point),\n",
    "        'latitude': iceberg_start_position[0],\n",
    "    }\n",
    "    \n",
    "    dx, dy, dvx, dvy = time_stepper(drift_model.drift, dt, iceberg_velocity, **drift_function_kwargs)\n",
    "    \n",
    "    iceberg_eastward_velocity, iceberg_northward_velocity = iceberg_velocity\n",
    "    iceberg_eastward_velocity += dvx\n",
    "    iceberg_northward_velocity += dvy\n",
    "    iceberg_velocity = iceberg_eastward_velocity, iceberg_northward_velocity\n",
    "    iceberg_latitude, iceberg_longitude = iceberg_position\n",
    "    iceberg_latitude += tools.dy_to_dlat(dy)\n",
    "    iceberg_longitude += tools.dx_to_dlon(dx, iceberg_latitude)\n",
    "    iceberg_position = iceberg_latitude, iceberg_longitude\n",
    "    \n",
    "    dynamic_results['latitude'].append(iceberg_position[0])\n",
    "    dynamic_results['longitude'].append(iceberg_position[1])\n",
    "    \n",
    "    time += time_step"
   ]
  },
  {
   "cell_type": "markdown",
   "metadata": {},
   "source": [
    "# Simulate with Analytical Drift Model"
   ]
  },
  {
   "cell_type": "code",
   "execution_count": 26,
   "metadata": {},
   "outputs": [],
   "source": [
    "drift_model_kwargs = {\n",
    "    'form_drag_coefficient_in_air': iceberg_.FORM_DRAG_COEFFICIENT_IN_AIR,\n",
    "    'form_drag_coefficient_in_water': iceberg_.FORM_DRAG_COEFFICIENT_IN_WATER,\n",
    "    'length': iceberg_.geometry.waterline_length,\n",
    "    'width': iceberg_.geometry.waterline_length,\n",
    "}\n",
    "\n",
    "drift_model = drift.AnalyticalDriftModel\n",
    "drift_model = drift_model()\n",
    "drift_function = drift_model.drift"
   ]
  },
  {
   "cell_type": "code",
   "execution_count": 27,
   "metadata": {},
   "outputs": [],
   "source": [
    "#%%timeit\n",
    "\n",
    "time_step = np.timedelta64(300, 's')\n",
    "dt = time_step.item().total_seconds()\n",
    "\n",
    "simulation_start_time = iceberg_start_time\n",
    "simulation_end_time = simulation_start_time + np.timedelta64(1, 'D')\n",
    "\n",
    "time = simulation_start_time\n",
    "iceberg_position = iceberg_start_position\n",
    "\n",
    "analytical_results = {'latitude': [iceberg_start_position[0]], 'longitude': [iceberg_start_position[1]]}\n",
    "\n",
    "\n",
    "while time <= simulation_end_time:\n",
    "    \n",
    "    point = time, iceberg_position[0], iceberg_position[1]\n",
    "    \n",
    "    drift_function_kwargs = {\n",
    "        'current_velocity': ocean.current.interpolate(point),\n",
    "        'wind_velocity': atmosphere.wind.interpolate(point),\n",
    "        'latitude': iceberg_position[0],\n",
    "    }\n",
    "    \n",
    "    dx, dy = time_stepper(drift_model.drift, dt, **drift_function_kwargs)\n",
    "    \n",
    "    iceberg_latitude, iceberg_longitude = iceberg_position\n",
    "    iceberg_latitude += tools.dy_to_dlat(dy)\n",
    "    iceberg_longitude += tools.dx_to_dlon(dx, iceberg_latitude)\n",
    "    iceberg_position = iceberg_latitude, iceberg_longitude\n",
    "    \n",
    "    analytical_results['latitude'].append(iceberg_position[0])\n",
    "    analytical_results['longitude'].append(iceberg_position[1])\n",
    "    \n",
    "    time += time_step"
   ]
  },
  {
   "cell_type": "markdown",
   "metadata": {},
   "source": [
    "# Plot Simulation Results"
   ]
  },
  {
   "cell_type": "code",
   "execution_count": 30,
   "metadata": {},
   "outputs": [
    {
     "data": {
      "image/png": "[encoded data removed]",
      "text/plain": [
       "<Figure size 432x288 with 1 Axes>"
      ]
     },
     "metadata": {},
     "output_type": "display_data"
    }
   ],
   "source": [
    "plt.scatter(dynamic_results['longitude'], dynamic_results['latitude'], label='dynamic')\n",
    "plt.scatter(analytical_results['longitude'], analytical_results['latitude'], label='analytical')\n",
    "plt.legend()\n",
    "plt.show()"
   ]
  },
  {
   "cell_type": "code",
   "execution_count": null,
   "metadata": {},
   "outputs": [],
   "source": []
  }
 ],
 "metadata": {
  "kernelspec": {
   "display_name": "Python 3",
   "language": "python",
   "name": "python3"
  },
  "language_info": {
   "codemirror_mode": {
    "name": "ipython",
    "version": 3
   },
   "file_extension": ".py",
   "mimetype": "text/x-python",
   "name": "python",
   "nbconvert_exporter": "python",
   "pygments_lexer": "ipython3",
   "version": "3.6.5"
  }
 },
 "nbformat": 4,
 "nbformat_minor": 2
}
