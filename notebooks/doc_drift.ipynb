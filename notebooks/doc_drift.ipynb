{
 "cells": [
  {
   "cell_type": "code",
   "execution_count": 1,
   "metadata": {},
   "outputs": [],
   "source": [
    "import numpy as np\n",
    "from importlib import reload\n",
    "from icedef import drift"
   ]
  },
  {
   "cell_type": "code",
   "execution_count": 2,
   "metadata": {},
   "outputs": [
    {
     "data": {
      "text/plain": [
       "<module 'icedef.drift' from '/home/evankielley/IceDEF/icedef/drift.py'>"
      ]
     },
     "execution_count": 2,
     "metadata": {},
     "output_type": "execute_result"
    }
   ],
   "source": [
    "reload(drift)"
   ]
  },
  {
   "cell_type": "code",
   "execution_count": 12,
   "metadata": {},
   "outputs": [],
   "source": [
    "# Args\n",
    "time = t = np.datetime64('2015-04-23')\n",
    "latitude = lat = 50\n",
    "longitude = lon = -50\n",
    "eastward_velocity = vx = 0.1\n",
    "northward_velocity = vy = 0\n",
    "\n",
    "\n",
    "# Kwargs\n",
    "kwargs = {\n",
    "    'eastward_current_velocity' : 0.1,\n",
    "    'northward_current_velocity' : 0,\n",
    "    'eastward_mean_current_velocity' : 0.1,\n",
    "    'northward_mean_current_velocity' : 0,\n",
    "    'eastward_mean_current_acceleration' : 1e-5,\n",
    "    'northward_mean_current_acceleration' : 0,  \n",
    "    'eastward_wind_velocity' : 0,\n",
    "    'northward_wind_velocity' : 0,\n",
    "    'current_velocity': (0.1, 0),\n",
    "    'mean_current_velocity': (0.1, 0),\n",
    "    'mean_current_acceleration': (1e-5, 0),\n",
    "    'wind_velocity': (0, 0),\n",
    "    'latitude': 50\n",
    "}"
   ]
  },
  {
   "cell_type": "code",
   "execution_count": 13,
   "metadata": {},
   "outputs": [],
   "source": [
    "drift_model = drift.DynamicDriftModel()"
   ]
  },
  {
   "cell_type": "code",
   "execution_count": 14,
   "metadata": {},
   "outputs": [
    {
     "data": {
      "text/plain": [
       "(6.657643554931337e-06, -8.87069582721723e-22)"
      ]
     },
     "execution_count": 14,
     "metadata": {},
     "output_type": "execute_result"
    }
   ],
   "source": [
    "drift_model.drift((vx, vy), **kwargs)"
   ]
  },
  {
   "cell_type": "markdown",
   "metadata": {},
   "source": [
    "# Dynamic Drift Model"
   ]
  },
  {
   "cell_type": "code",
   "execution_count": 61,
   "metadata": {},
   "outputs": [],
   "source": [
    "drift_model = f = drift.newtonian_drift_wrapper"
   ]
  },
  {
   "cell_type": "code",
   "execution_count": 62,
   "metadata": {},
   "outputs": [
    {
     "data": {
      "text/plain": [
       "(0.1, 0, 6.657643554931337e-06, -8.87069582721723e-22)"
      ]
     },
     "execution_count": 62,
     "metadata": {},
     "output_type": "execute_result"
    }
   ],
   "source": [
    "drift_model(t, lon, lat, vx, vy, **kwargs)"
   ]
  },
  {
   "cell_type": "markdown",
   "metadata": {},
   "source": [
    "# With time stepper"
   ]
  },
  {
   "cell_type": "code",
   "execution_count": 56,
   "metadata": {},
   "outputs": [],
   "source": [
    "from icedef import timesteppers"
   ]
  },
  {
   "cell_type": "code",
   "execution_count": 64,
   "metadata": {},
   "outputs": [
    {
     "name": "stdout",
     "output_type": "stream",
     "text": [
      "dx = 30.0, dy = 0.0, dvx = 0.0019972930664794012, dvy = -2.661208748165169e-19\n"
     ]
    }
   ],
   "source": [
    "time_step = h = np.timedelta64(300, 's').item().total_seconds()\n",
    "time_stepper = timesteppers.euler\n",
    "dx, dy, dvx, dvy = time_stepper(f, h, t, lon, lat, vx, vy, **kwargs)\n",
    "print(f'dx = {dx}, dy = {dy}, dvx = {dvx}, dvy = {dvy}')"
   ]
  },
  {
   "cell_type": "markdown",
   "metadata": {},
   "source": [
    "# Analytical Drift Model"
   ]
  },
  {
   "cell_type": "code",
   "execution_count": null,
   "metadata": {},
   "outputs": [],
   "source": []
  }
 ],
 "metadata": {
  "kernelspec": {
   "display_name": "Python 3",
   "language": "python",
   "name": "python3"
  },
  "language_info": {
   "codemirror_mode": {
    "name": "ipython",
    "version": 3
   },
   "file_extension": ".py",
   "mimetype": "text/x-python",
   "name": "python",
   "nbconvert_exporter": "python",
   "pygments_lexer": "ipython3",
   "version": "3.6.5"
  }
 },
 "nbformat": 4,
 "nbformat_minor": 2
}
